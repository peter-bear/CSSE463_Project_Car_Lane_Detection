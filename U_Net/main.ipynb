{
 "cells": [
  {
   "cell_type": "code",
   "execution_count": 1,
   "metadata": {},
   "outputs": [],
   "source": [
    "import numpy as np\n",
    "from data.MyDataSet import MyDataSet\n",
    "from unet.unet_model import UNet\n",
    "from torch.utils.data import DataLoader\n",
    "import torch\n",
    "import torch.optim as optim\n",
    "import torch.nn as nn\n",
    "import gc"
   ]
  },
  {
   "cell_type": "markdown",
   "metadata": {},
   "source": [
    "### Start Plot Server, Do not run this command at here"
   ]
  },
  {
   "cell_type": "code",
   "execution_count": 2,
   "metadata": {},
   "outputs": [],
   "source": [
    "# !python -m visdom.server"
   ]
  },
  {
   "cell_type": "code",
   "execution_count": 2,
   "metadata": {},
   "outputs": [],
   "source": [
    "def train_net(net, device, train_loader, optimizer, epochIdx, criterion, ACC_LIST, LOSS_LIST):\n",
    "    net.train()\n",
    "    train_loss = 0\n",
    "    correct = 0\n",
    "    i = 0\n",
    "    for batch_idx, (image, target) in enumerate(train_loader):\n",
    "        image, target = image.to(device=device, dtype=torch.float32), target.to(device=device, dtype=torch.float32)\n",
    "        optimizer.zero_grad()\n",
    "        # predict the output\n",
    "        output = net(image)\n",
    "\n",
    "        # calculate the loss\n",
    "        loss = criterion(output, target)\n",
    "        train_loss += loss\n",
    "        LOSS_LIST.append(loss.item())\n",
    "\n",
    "        # calculate accuracy\n",
    "        acc = cal_acc(output, target)\n",
    "        correct += acc\n",
    "        ACC_LIST.append(acc.item())\n",
    "\n",
    "\n",
    "        # back forward to update parameters\n",
    "        loss.backward()\n",
    "        optimizer.step()\n",
    "\n",
    "        i = batch_idx\n",
    "    \n",
    "    print('\\n Epoch {:d} Train set: Average loss: {:.4f}, Accuracy: ({:.0f}%)\\n'.format(epochIdx, train_loss / i, correct / i))\n",
    "\n",
    "def eval_net(net, device, validate_loader, epochIdx, criterion, ACC_LIST, LOSS_LIST):\n",
    "    net.eval()\n",
    "    validate_loss = 0\n",
    "    correct = 0\n",
    "    i = 0\n",
    "    with torch.no_grad():\n",
    "        for batch_idx, (image, target) in enumerate(validate_loader):\n",
    "            image, target = image.to(device=device, dtype=torch.float32), target.to(device=device, dtype=torch.float32)\n",
    "\n",
    "            # predict the mask\n",
    "            output = net(image)\n",
    "\n",
    "            # calculate the loss\n",
    "            loss = criterion(output, target)\n",
    "            validate_loss += loss\n",
    "            LOSS_LIST.append(loss.item())\n",
    "            \n",
    "            # calculate accuracy\n",
    "            acc = cal_acc(output, target)\n",
    "            correct += acc\n",
    "            ACC_LIST.append(acc.item())\n",
    "\n",
    "            i = batch_idx\n",
    "            \n",
    "        print('\\nEpoch {:d} Validate set: Average loss: {:.4f}, Accuracy: ({:.0f}%)\\n'.format(epochIdx, validate_loss / i, correct / i))\n",
    "       \n",
    "\"\"\"\n",
    "    # calculate accuracy\n",
    "    acc = cal_acc(output, target)\n",
    "    ACC_LIST.append(acc)\n",
    "    # print(\"Acc: \", acc)\n",
    "\"\"\"\n",
    "def cal_acc(pred, label):\n",
    "    _, tags = torch.max(pred, dim = 1)\n",
    "    corrects = (tags == label).float()\n",
    "    acc = corrects.sum() / corrects.numel()\n",
    "    acc = acc * 100\n",
    "    return acc"
   ]
  },
  {
   "cell_type": "code",
   "execution_count": 3,
   "metadata": {},
   "outputs": [],
   "source": [
    "gc.collect()\n",
    "torch.cuda.empty_cache()\n",
    "# prepare data set\n",
    "trainSet = MyDataSet(\"./data/SDLane/train/\", \"./data/SDLane/train/train_list.txt\")\n",
    "\n",
    "train_set_size = 30000\n",
    "valid_set_size = 9096\n",
    "\n",
    "trainSet, validateSet = torch.utils.data.random_split(trainSet, [train_set_size, valid_set_size])\n",
    "\n",
    "train_loader = DataLoader(dataset=trainSet, batch_size=10, shuffle=True)\n",
    "validate_loader = DataLoader(dataset=validateSet, batch_size=10, shuffle=True)\n"
   ]
  },
  {
   "cell_type": "code",
   "execution_count": 4,
   "metadata": {},
   "outputs": [
    {
     "name": "stdout",
     "output_type": "stream",
     "text": [
      "\n",
      " Epoch 1 Train set: Average loss: 0.0410, Accuracy: (97%)\n",
      "\n",
      "\n",
      "Epoch 1 Validate set: Average loss: 0.0320, Accuracy: (97%)\n",
      "\n",
      "\n",
      " Epoch 2 Train set: Average loss: 0.0273, Accuracy: (97%)\n",
      "\n",
      "\n",
      "Epoch 2 Validate set: Average loss: 0.0266, Accuracy: (97%)\n",
      "\n"
     ]
    }
   ],
   "source": [
    "# prepare net parameters\n",
    "EPOCHS = 2\n",
    "net = UNet(n_channels=1, n_classes=1)\n",
    "device = torch.device('cuda' if torch.cuda.is_available() else 'cpu')\n",
    "net = net.to(device)\n",
    "# optimizer and loss function\n",
    "optimizer = optim.RMSprop(net.parameters(), lr=0.001, weight_decay=1e-8, momentum=0.9)\n",
    "criterion = nn.BCEWithLogitsLoss()\n",
    "# criterion = nn.CrossEntropyLoss()\n",
    "\n",
    "# train network\n",
    "TRAIN_ACC_LIST = []\n",
    "TRAIN_LOSS_LIST = []\n",
    "\n",
    "VALIDATE_ACC_LIST = []\n",
    "VALIDATE_LOSS_LIST = []\n",
    "\n",
    "for epoch in range(1, EPOCHS + 1):\n",
    "    train_net(net, device, train_loader, optimizer, epoch, criterion, TRAIN_ACC_LIST, TRAIN_LOSS_LIST)\n",
    "    eval_net(net, device, validate_loader, epoch, criterion, VALIDATE_ACC_LIST, VALIDATE_LOSS_LIST)\n",
    "\n",
    "torch.save(net, \"./model.mod\")"
   ]
  },
  {
   "cell_type": "markdown",
   "metadata": {},
   "source": [
    "### Save record: Loss & accuracy"
   ]
  },
  {
   "cell_type": "code",
   "execution_count": 14,
   "metadata": {},
   "outputs": [],
   "source": [
    "import csv\n",
    "with open('./trainRecord.csv','w') as f1:\n",
    "    writer=csv.writer(f1, delimiter='\\t',lineterminator='\\n',)\n",
    "    row = \"{}, {}, {}\".format(\"index\", \"accuracy\", \"loss\")\n",
    "    writer.writerow(row)\n",
    "    for i in range(len(TRAIN_ACC_LIST)):\n",
    "        row = \"{}, {}, {}\".format(i, TRAIN_ACC_LIST[i], TRAIN_LOSS_LIST[i])\n",
    "        writer.writerow(row)\n",
    "\n",
    "with open('./validateRecord.csv','w') as f2:\n",
    "    writer=csv.writer(f2, delimiter='\\t',lineterminator='\\n',)\n",
    "    row = \"{}, {}, {}\".format(\"index\", \"accuracy\", \"loss\")\n",
    "    writer.writerow(row)\n",
    "    for i in range(len(VALIDATE_ACC_LIST)):\n",
    "        row = \"{}, {}, {}\".format(i, VALIDATE_ACC_LIST[i], VALIDATE_LOSS_LIST[i])\n",
    "        writer.writerow(row)"
   ]
  },
  {
   "cell_type": "markdown",
   "metadata": {},
   "source": [
    "## Plot show the Loss"
   ]
  },
  {
   "cell_type": "code",
   "execution_count": 15,
   "metadata": {},
   "outputs": [],
   "source": [
    "import matplotlib.pyplot as plt\n",
    "trainIndexes = []\n",
    "for i in range(len(TRAIN_ACC_LIST)):\n",
    "    trainIndexes.append(i)"
   ]
  },
  {
   "cell_type": "code",
   "execution_count": 7,
   "metadata": {},
   "outputs": [
    {
     "data": {
      "text/plain": [
       "[<matplotlib.lines.Line2D at 0x7f2aa805b9d0>]"
      ]
     },
     "execution_count": 7,
     "metadata": {},
     "output_type": "execute_result"
    },
    {
     "data": {
      "image/png": "[encoded data removed]",
      "text/plain": [
       "<Figure size 432x288 with 1 Axes>"
      ]
     },
     "metadata": {
      "needs_background": "light"
     },
     "output_type": "display_data"
    }
   ],
   "source": [
    "plt.xlabel(\"Training Num\")\n",
    "plt.ylabel(\"Training Loss\")\n",
    "plt.plot(trainIndexes, TRAIN_LOSS_LIST)"
   ]
  }
 ],
 "metadata": {
  "kernelspec": {
   "display_name": "base",
   "language": "python",
   "name": "python3"
  },
  "language_info": {
   "codemirror_mode": {
    "name": "ipython",
    "version": 3
   },
   "file_extension": ".py",
   "mimetype": "text/x-python",
   "name": "python",
   "nbconvert_exporter": "python",
   "pygments_lexer": "ipython3",
   "version": "3.9.0"
  },
  "orig_nbformat": 4
 },
 "nbformat": 4,
 "nbformat_minor": 2
}
