{
 "cells": [
  {
   "cell_type": "code",
   "execution_count": 1,
   "metadata": {},
   "outputs": [],
   "source": [
    "import numpy as np\n",
    "from data.MyDataSet import MyDataSet\n",
    "from unet.unet_model import UNet\n",
    "from torch.utils.data import DataLoader\n",
    "import torch\n",
    "import torch.optim as optim\n",
    "import torch.nn as nn\n",
    "import gc\n",
    "from tqdm import tqdm"
   ]
  },
  {
   "cell_type": "markdown",
   "metadata": {},
   "source": [
    "### Start Plot Server, Do not run this command at here"
   ]
  },
  {
   "cell_type": "code",
   "execution_count": 2,
   "metadata": {},
   "outputs": [],
   "source": [
    "# !python -m visdom.server"
   ]
  },
  {
   "cell_type": "code",
   "execution_count": 5,
   "metadata": {},
   "outputs": [],
   "source": [
    "def train_net(net, device, train_loader, optimizer, epochIdx, criterion, ACC_LIST, LOSS_LIST):\n",
    "    net.train()\n",
    "    total_loss = 0\n",
    "    for image, target in train_loader:\n",
    "        image, target = image.to(device=device, dtype=torch.float32), target.to(device=device, dtype=torch.float32)\n",
    "        optimizer.zero_grad()\n",
    "        # predict the output\n",
    "        output = net(image)\n",
    "\n",
    "        # calculate accuracy\n",
    "        acc = cal_acc(output, target)\n",
    "        ACC_LIST.append(acc)\n",
    "        # print(\"Acc: \", acc)\n",
    "\n",
    "        # calculate the loss\n",
    "        loss = criterion(output, target)\n",
    "        # print(\"Loss:  \", loss.item())\n",
    "        LOSS_LIST.append(loss.item())\n",
    "\n",
    "        # back forward to update parameters\n",
    "        loss.backward()\n",
    "        optimizer.step()\n",
    "       \n",
    "def cal_acc(pred, label):\n",
    "    _, tags = torch.max(pred, dim = 1)\n",
    "    corrects = (tags == label).float()\n",
    "    acc = corrects.sum() / corrects.numel()\n",
    "    acc = acc * 100\n",
    "    return acc"
   ]
  },
  {
   "cell_type": "code",
   "execution_count": 6,
   "metadata": {},
   "outputs": [],
   "source": [
    "gc.collect()\n",
    "torch.cuda.empty_cache()\n",
    "# prepare data set\n",
    "trainSet = MyDataSet(\"./data/SDLane/train/\", \"./data/SDLane/train/train_list.txt\")\n",
    "# testSet = MyDataSet(\"./data/SDLane/test/\", \"./data/SDLane/test/test_list.txt\")\n",
    "train_loader = DataLoader(dataset=trainSet, batch_size=10, shuffle=True)\n",
    "# test_loader = DataLoader(dataset=testSet, batch_size=50, shuffle=True)"
   ]
  },
  {
   "cell_type": "code",
   "execution_count": 7,
   "metadata": {},
   "outputs": [],
   "source": [
    "# prepare net parameters\n",
    "net = UNet(n_channels=1, n_classes=1)\n",
    "device = torch.device('cuda' if torch.cuda.is_available() else 'cpu')\n",
    "net = net.to(device)\n",
    "# optimizer and loss function\n",
    "optimizer = optim.RMSprop(net.parameters(), lr=0.001, weight_decay=1e-8, momentum=0.9)\n",
    "criterion = nn.BCEWithLogitsLoss()\n",
    "# criterion = nn.CrossEntropyLoss()\n",
    "\n",
    "# train network\n",
    "ACC_LIST = []\n",
    "LOSS_LIST = []\n",
    "\n",
    "train_net(net, device, train_loader, optimizer, 0, criterion, ACC_LIST, LOSS_LIST)\n",
    "torch.save(net, \"./model.mod\")"
   ]
  },
  {
   "cell_type": "code",
   "execution_count": 27,
   "metadata": {},
   "outputs": [],
   "source": [
    "import csv\n",
    "with open('./record.csv','w') as f1:\n",
    "    writer=csv.writer(f1, delimiter='\\t',lineterminator='\\n',)\n",
    "    for i in range(len(ACC_LIST)):\n",
    "        row = \"{}, {}, {}\".format(i, ACC_LIST[i].item(), LOSS_LIST[i])\n",
    "        writer.writerow(row)\n"
   ]
  },
  {
   "cell_type": "code",
   "execution_count": 35,
   "metadata": {},
   "outputs": [],
   "source": [
    "acces = []\n",
    "indexes = []\n",
    "for i in range(len(ACC_LIST)):\n",
    "    acces.append(ACC_LIST[i].item())\n",
    "    indexes.append(i)"
   ]
  },
  {
   "cell_type": "code",
   "execution_count": 38,
   "metadata": {},
   "outputs": [
    {
     "data": {
      "text/plain": [
       "[<matplotlib.lines.Line2D at 0x7fef86f72e50>]"
      ]
     },
     "execution_count": 38,
     "metadata": {},
     "output_type": "execute_result"
    },
    {
     "data": {
      "image/png": "[encoded data removed]",
      "text/plain": [
       "<Figure size 432x288 with 1 Axes>"
      ]
     },
     "metadata": {
      "needs_background": "light"
     },
     "output_type": "display_data"
    }
   ],
   "source": [
    "import matplotlib.pyplot as plt\n",
    "plt.plot(indexes, LOSS_LIST)"
   ]
  }
 ],
 "metadata": {
  "kernelspec": {
   "display_name": "base",
   "language": "python",
   "name": "python3"
  },
  "language_info": {
   "codemirror_mode": {
    "name": "ipython",
    "version": 3
   },
   "file_extension": ".py",
   "mimetype": "text/x-python",
   "name": "python",
   "nbconvert_exporter": "python",
   "pygments_lexer": "ipython3",
   "version": "3.9.0"
  },
  "orig_nbformat": 4
 },
 "nbformat": 4,
 "nbformat_minor": 2
}
