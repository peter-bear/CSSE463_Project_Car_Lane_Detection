{
 "cells": [
  {
   "cell_type": "code",
   "execution_count": 1,
   "metadata": {},
   "outputs": [],
   "source": [
    "import numpy as np\n",
    "from data.MyDataSet import MyDataSet\n",
    "from torch.utils.data import DataLoader\n",
    "import torch\n",
    "import cv2\n",
    "import matplotlib.pyplot as plt"
   ]
  },
  {
   "cell_type": "code",
   "execution_count": 2,
   "metadata": {},
   "outputs": [],
   "source": [
    "def cal_acc(pred, label):\n",
    "    _, tags = torch.max(pred, dim = 1)\n",
    "    corrects = (tags == label).float()\n",
    "    acc = corrects.sum() / corrects.numel()\n",
    "    acc = acc * 100\n",
    "    return acc"
   ]
  },
  {
   "cell_type": "markdown",
   "metadata": {},
   "source": [
    "### Load a random test image and see the output"
   ]
  },
  {
   "cell_type": "code",
   "execution_count": 4,
   "metadata": {},
   "outputs": [
    {
     "name": "stdout",
     "output_type": "stream",
     "text": [
      "\n",
      "Test set: Accuracy: (97%)\n",
      "\n"
     ]
    }
   ],
   "source": [
    "testSet = MyDataSet(\"./data/SDLane/test/\", \"./data/SDLane/test/test_list.txt\")\n",
    "test_loader = DataLoader(dataset=testSet, batch_size=20, shuffle=True, num_workers=2)\n",
    "device = torch.device('cuda' if torch.cuda.is_available() else 'cpu')\n",
    "net = torch.load(\"./model.mod\")\n",
    "net.eval()\n",
    "net = net.to(device)\n",
    "\n",
    "correct = 0\n",
    "i = 0\n",
    "for image, label in test_loader:\n",
    "    image = image.to(device=device, dtype=torch.float32)\n",
    "    label = label.to(device=device, dtype=torch.float32)\n",
    "    pred = net(image)\n",
    "\n",
    "    acc = cal_acc(pred, label)\n",
    "    correct += acc\n",
    "    i += 1\n",
    "    \n",
    "    # prepare for storage\n",
    "    image = np.array(image.data.cpu()[0])[0]\n",
    "    pred = np.array(pred.data.cpu()[0])[0]\n",
    "\n",
    "    pred[pred >= 0.5] = 255\n",
    "    pred[pred < 0.5] = 0\n",
    "\n",
    "    # cv2.imwrite(\"./output.jpg\", pred)\n",
    "    # cv2.imwrite(\"./input.jpg\", image)\n",
    "\n",
    "\n",
    "    \n",
    "\n",
    "    # break\n",
    "\n",
    "\n",
    "print('\\nTest set: Accuracy: ({:.0f}%)\\n'.format(correct / i))"
   ]
  },
  {
   "cell_type": "code",
   "execution_count": 5,
   "metadata": {},
   "outputs": [
    {
     "data": {
      "text/plain": [
       "193"
      ]
     },
     "execution_count": 5,
     "metadata": {},
     "output_type": "execute_result"
    }
   ],
   "source": [
    "i"
   ]
  }
 ],
 "metadata": {
  "kernelspec": {
   "display_name": "base",
   "language": "python",
   "name": "python3"
  },
  "language_info": {
   "codemirror_mode": {
    "name": "ipython",
    "version": 3
   },
   "file_extension": ".py",
   "mimetype": "text/x-python",
   "name": "python",
   "nbconvert_exporter": "python",
   "pygments_lexer": "ipython3",
   "version": "3.9.0"
  },
  "orig_nbformat": 4
 },
 "nbformat": 4,
 "nbformat_minor": 2
}
